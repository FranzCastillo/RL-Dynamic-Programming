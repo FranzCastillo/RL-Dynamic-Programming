{
 "cells": [
  {
   "metadata": {},
   "cell_type": "markdown",
   "source": [
    "# Programación Dinámica\n",
    "Francisco Castillo - 21562\n",
    "Diego Lemus -"
   ],
   "id": "dc576fcd0dade002"
  },
  {
   "metadata": {},
   "cell_type": "markdown",
   "source": [
    "## Task 1\n",
    "### ¿Qué es la Programación Dinámica y cómo se relaciona con Reinforcement Learning?\n",
    "Es un paradigma de programación que se utiliza para resolver problemas que pueden descomponerse en otros subproblemas más simples. En los Markov Decision Processes, la programación dinámica permite encontrar la política óptima y el valor de los estados mediante la iteración de políticas o la iteración de valores mientras se conozcan las dinámicas del entorno (probabilidades de transición y recompensas).\n",
    "### Explique en sus propias palabras el algoritmo de Iteración de Póliza\n",
    "El algoritmo de Policy Iteration es un método para encontrar la política óptima en un MDP. Consiste en dos pasos:\n",
    "1. **Evaluación de la política:** se calcula el valor de los estados bajo la política actual.\n",
    "2. **Mejora de la política:** se actualiza la política seleccionando acciones que maximicen el valor esperado de los estados. Este proceso se repite hasta que la política converge.\n",
    "### Explique en sus propias palabras el algoritmo de Iteración de Valor\n",
    "El algoritmo de Value Iteration es un método para encontrar la política óptima en un MDP mediante la actualización iterativa de los valores de los estados. Este solo tiene un paso:\n",
    "1. **Actualización de valores:** se actualizan los valores de los estados utilizando la ecuación de Bellman, considerando las acciones posibles y las probabilidades de transición. Este proceso se repite hasta que los valores convergen, lo que permite derivar la política óptima a partir de los valores finales.\n",
    "### En el laboratorio pasado, vimos que el valor de los premios obtenidos se mantienen constantes, ¿por qué?\n",
    "Se mantienen constantes porque era un ambiente determinista con recomepnsas fijas. Esto implica que la función de recomensa no cambia con el tiempo y las recompensas son predecibles.\n",
    "\n",
    "> [Value Iteration vs. Policy Iteration](https://www.geeksforgeeks.org/data-science/what-is-the-difference-between-value-iteration-and-policy-iteration/)"
   ],
   "id": "c7d467cb7a36e433"
  },
  {
   "metadata": {},
   "cell_type": "code",
   "outputs": [],
   "execution_count": null,
   "source": "",
   "id": "dba4221177d54b3"
  },
  {
   "metadata": {},
   "cell_type": "code",
   "outputs": [],
   "execution_count": null,
   "source": "",
   "id": "f40ed5bcee1b260f"
  },
  {
   "cell_type": "code",
   "execution_count": null,
   "id": "initial_id",
   "metadata": {
    "collapsed": true
   },
   "outputs": [],
   "source": [
    ""
   ]
  }
 ],
 "metadata": {
  "kernelspec": {
   "display_name": "Python 3",
   "language": "python",
   "name": "python3"
  },
  "language_info": {
   "codemirror_mode": {
    "name": "ipython",
    "version": 2
   },
   "file_extension": ".py",
   "mimetype": "text/x-python",
   "name": "python",
   "nbconvert_exporter": "python",
   "pygments_lexer": "ipython2",
   "version": "2.7.6"
  }
 },
 "nbformat": 4,
 "nbformat_minor": 5
}
